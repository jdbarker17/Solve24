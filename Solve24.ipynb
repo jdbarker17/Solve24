{
 "cells": [
  {
   "cell_type": "code",
   "execution_count": 153,
   "id": "d151e2a4",
   "metadata": {},
   "outputs": [],
   "source": [
    "import numpy\n",
    "import itertools\n",
    "import operator"
   ]
  },
  {
   "cell_type": "code",
   "execution_count": 154,
   "id": "775f2d43",
   "metadata": {},
   "outputs": [],
   "source": [
    "#Tasks:\n",
    "#Step 1: Gather all possible permutations of the board\n",
    "#Step 2: Gather every possible combination of actions (+, -, *, %) and store as operations\n",
    "#Step 3: Perform every action combination on every number combination\n",
    "#Step 4: If end result"
   ]
  },
  {
   "cell_type": "code",
   "execution_count": 155,
   "id": "59ecaa0b",
   "metadata": {},
   "outputs": [],
   "source": [
    "board = [3,4,5,6]\n",
    "#board = [1,2,3,4]\n",
    "actions = [operator.add, operator.sub, operator.mul, operator.truediv]"
   ]
  },
  {
   "cell_type": "code",
   "execution_count": 156,
   "id": "590d6c47",
   "metadata": {},
   "outputs": [],
   "source": [
    "num_permutations = list(itertools.permutations(board))"
   ]
  },
  {
   "cell_type": "code",
   "execution_count": 157,
   "id": "edcb0097",
   "metadata": {},
   "outputs": [],
   "source": [
    "action_combinations = list(itertools.combinations_with_replacement(actions, 3))"
   ]
  },
  {
   "cell_type": "code",
   "execution_count": 158,
   "id": "5a0bede6",
   "metadata": {},
   "outputs": [],
   "source": [
    "def solve(numbers,action):\n",
    "    sum = action[2](action[1](action[0](numbers[0],numbers[1]),numbers[2]),numbers[3])\n",
    "    if sum == 24:\n",
    "        return 1\n",
    "    else:\n",
    "        return -1"
   ]
  },
  {
   "cell_type": "code",
   "execution_count": 159,
   "id": "75dcd651",
   "metadata": {},
   "outputs": [],
   "source": [
    "def format_action(action):\n",
    "    action_string = []\n",
    "    for act in action:\n",
    "        if act == operator.add:\n",
    "            action_string.append(\"+\")\n",
    "        if act == operator.sub:\n",
    "            action_string.append(\"-\")\n",
    "        if act == operator.mul:\n",
    "            action_string.append(\"*\")\n",
    "        if act == operator.truediv:\n",
    "            action_string.append(\"/\")\n",
    "    return action_string"
   ]
  },
  {
   "cell_type": "code",
   "execution_count": 161,
   "id": "dc09b723",
   "metadata": {},
   "outputs": [],
   "source": [
    "def print_output(solution):\n",
    "    numbers = solution[0]\n",
    "    actions = solution[1]\n",
    "    string = format_action(actions)\n",
    "    print(str(numbers[0]) + \" \" + string[0] + \" \" + str(numbers[1]) + \" \" + string[1] + \" \" + str(numbers[2]) + \" \" + string[2] + \" \" + str(numbers[3]))\n",
    "    "
   ]
  },
  {
   "cell_type": "code",
   "execution_count": 162,
   "id": "a25ebacf",
   "metadata": {},
   "outputs": [],
   "source": [
    "solution = []\n",
    "for numbers in num_permutations:   \n",
    "    for actions in action_combinations:\n",
    "        answer = solve(numbers,actions)\n",
    "        if answer == 1:\n",
    "            solution.append([numbers,actions])\n",
    "        "
   ]
  },
  {
   "cell_type": "code",
   "execution_count": 163,
   "id": "3a6477d8",
   "metadata": {},
   "outputs": [
    {
     "name": "stdout",
     "output_type": "stream",
     "text": [
      "3 + 5 - 4 * 6\n",
      "5 + 3 - 4 * 6\n"
     ]
    }
   ],
   "source": [
    "for sol in solution:\n",
    "    print_output(sol)"
   ]
  },
  {
   "cell_type": "code",
   "execution_count": null,
   "id": "6ed7ac5b",
   "metadata": {},
   "outputs": [],
   "source": []
  }
 ],
 "metadata": {
  "kernelspec": {
   "display_name": "Python 3 (ipykernel)",
   "language": "python",
   "name": "python3"
  },
  "language_info": {
   "codemirror_mode": {
    "name": "ipython",
    "version": 3
   },
   "file_extension": ".py",
   "mimetype": "text/x-python",
   "name": "python",
   "nbconvert_exporter": "python",
   "pygments_lexer": "ipython3",
   "version": "3.10.5"
  }
 },
 "nbformat": 4,
 "nbformat_minor": 5
}
